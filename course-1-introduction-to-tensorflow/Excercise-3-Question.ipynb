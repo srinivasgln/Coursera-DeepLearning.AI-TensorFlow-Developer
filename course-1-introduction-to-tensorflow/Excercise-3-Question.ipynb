{
 "cells": [
  {
   "cell_type": "markdown",
   "metadata": {
    "colab_type": "text",
    "id": "iQjHqsmTAVLU"
   },
   "source": [
    "## Exercise 3\n",
    "In the videos you looked at how you would improve Fashion MNIST using Convolutions. For your exercise see if you can improve MNIST to 99.8% accuracy or more using only a single convolutional layer and a single MaxPooling 2D. You should stop training once the accuracy goes above this amount. It should happen in less than 20 epochs, so it's ok to hard code the number of epochs for training, but your training must end once it hits the above metric. If it doesn't, then you'll need to redesign your layers.\n",
    "\n",
    "I've started the code for you -- you need to finish it!\n",
    "\n",
    "When 99.8% accuracy has been hit, you should print out the string \"Reached 99.8% accuracy so cancelling training!\"\n"
   ]
  },
  {
   "cell_type": "code",
   "execution_count": 1,
   "metadata": {},
   "outputs": [],
   "source": [
    "import tensorflow as tf\n",
    "from os import path, getcwd, chdir\n",
    "\n",
    "# DO NOT CHANGE THE LINE BELOW. If you are developing in a local\n",
    "# environment, then grab mnist.npz from the Coursera Jupyter Notebook\n",
    "# and place it inside a local folder and edit the path to that location\n",
    "path = f\"{getcwd()}/../tmp2/mnist.npz\""
   ]
  },
  {
   "cell_type": "code",
   "execution_count": 3,
   "metadata": {},
   "outputs": [
    {
     "name": "stdout",
     "output_type": "stream",
     "text": [
      "The training images:   (60000, 28, 28)\n",
      "The test images:  (10000, 28, 28)\n"
     ]
    },
    {
     "data": {
      "image/png": "[encoded data removed]",
      "text/plain": [
       "<Figure size 432x288 with 1 Axes>"
      ]
     },
     "metadata": {
      "needs_background": "light"
     },
     "output_type": "display_data"
    }
   ],
   "source": [
    "config = tf.ConfigProto()\n",
    "config.gpu_options.allow_growth = True\n",
    "sess = tf.Session(config=config)\n",
    "\n",
    "mnist = tf.keras.datasets.mnist\n",
    "(training_images, training_labels), (test_images, test_labels) = mnist.load_data(path=path)\n",
    "print(\"The training images:  \",training_images.shape)\n",
    "print(\"The test images: \",test_images.shape)\n",
    "import matplotlib.pyplot as plt\n",
    "plt.imshow(training_images[0])\n",
    "plt.show()\n"
   ]
  },
  {
   "cell_type": "code",
   "execution_count": 15,
   "metadata": {},
   "outputs": [],
   "source": [
    "class myCallback(tf.keras.callbacks.Callback):\n",
    "    def on_epoch_end(self, epoch, logs={}):\n",
    "        if(logs.get('acc')>0.998):\n",
    "            print(\"\\nReached 99.8% accuracy so cancelling training!\")\n",
    "            self.model.stop_training = True\n",
    "\n",
    "# GRADED FUNCTION: train_mnist_conv\n",
    "my_callbacks=myCallback()\n",
    "def train_mnist_conv():\n",
    "    \n",
    "    # Please write your code only where you are indicated.\n",
    "    # please do not remove model fitting inline comments.\n",
    "\n",
    "    # YOUR CODE STARTS HERE\n",
    "    \n",
    "    # YOUR CODE ENDS HERE\n",
    "\n",
    "    mnist = tf.keras.datasets.mnist\n",
    "    (training_images, training_labels), (test_images, test_labels) = mnist.load_data(path=path)\n",
    "     # YOUR CODE STARTS HERE\n",
    "    training_images=training_images.reshape(training_images.shape[0],28,28,1)\n",
    "    training_images=training_images/255.0\n",
    "    test_images=test_images.reshape(test_images.shape[0],28,28,1)\n",
    "    test_images=training_images/255.0\n",
    "    # Dense layer with tanh activation performs  better than the one with relu activation\n",
    "    \n",
    "    '''\n",
    "    model = tf.keras.models.Sequential([\n",
    "        tf.keras.layers.Conv2D(32,(3,3),activation=\"relu\",input_shape=(28,28,1)),\n",
    "        tf.keras.layers.MaxPooling2D((2,2)),\n",
    "        tf.keras.layers.Flatten(),\n",
    "        tf.keras.layers.Dense(64,activation=\"tanh\"),\n",
    "        tf.keras.layers.Dense(10,activation=\"softmax\")\n",
    "    ])\n",
    "    # YOUR CODE ENDS HERE\n",
    "    '''\n",
    "    # we can also use the following code instead which basically does the same\n",
    "    model=tf.keras.models.Sequential()\n",
    "    model.add(tf.keras.layers.Conv2D(32,(3,3),activation=\"relu\",input_shape=(28,28,1)))\n",
    "    model.add(tf.keras.layers.MaxPooling2D((2,2)))\n",
    "    model.add(tf.keras.layers.Flatten())\n",
    "    model.add(tf.keras.layers.Dense(64,activation=\"tanh\"))\n",
    "    model.add(tf.keras.layers.Dense(10,activation=\"softmax\"))\n",
    "    \n",
    "    model.compile(optimizer='adam', loss='sparse_categorical_crossentropy', metrics=['accuracy'])\n",
    "    # model fitting\n",
    "    history = model.fit(\n",
    "        # YOUR CODE STARTS HERE\n",
    "        training_images,training_labels,epochs=20,callbacks=[my_callbacks]\n",
    "        # YOUR CODE ENDS HERE\n",
    "        )\n",
    "    # model fitting\n",
    "    return history.epoch, history.history['acc'][-1]\n",
    "\n"
   ]
  },
  {
   "cell_type": "code",
   "execution_count": 16,
   "metadata": {},
   "outputs": [
    {
     "name": "stdout",
     "output_type": "stream",
     "text": [
      "Epoch 1/20\n",
      "60000/60000 [==============================] - 15s 242us/sample - loss: 0.1579 - acc: 0.9548\n",
      "Epoch 2/20\n",
      "60000/60000 [==============================] - 15s 242us/sample - loss: 0.0544 - acc: 0.9843\n",
      "Epoch 3/20\n",
      "60000/60000 [==============================] - 14s 232us/sample - loss: 0.0337 - acc: 0.9902\n",
      "Epoch 4/20\n",
      "60000/60000 [==============================] - 14s 227us/sample - loss: 0.0231 - acc: 0.9934\n",
      "Epoch 5/20\n",
      "60000/60000 [==============================] - 14s 232us/sample - loss: 0.0159 - acc: 0.9953\n",
      "Epoch 6/20\n",
      "60000/60000 [==============================] - 13s 225us/sample - loss: 0.0103 - acc: 0.9972\n",
      "Epoch 7/20\n",
      "59552/60000 [============================>.] - ETA: 0s - loss: 0.0075 - acc: 0.9981\n",
      "Reached 99.8% accuracy so cancelling training!\n",
      "60000/60000 [==============================] - 13s 222us/sample - loss: 0.0075 - acc: 0.9980\n"
     ]
    }
   ],
   "source": [
    "_, _ = train_mnist_conv()"
   ]
  },
  {
   "cell_type": "code",
   "execution_count": 17,
   "metadata": {},
   "outputs": [],
   "source": [
    "# Now click the 'Submit Assignment' button above.\n",
    "# Once that is complete, please run the following two cells to save your work and close the notebook"
   ]
  },
  {
   "cell_type": "code",
   "execution_count": null,
   "metadata": {},
   "outputs": [],
   "source": [
    "%%javascript\n",
    "<!-- Save the notebook -->\n",
    "IPython.notebook.save_checkpoint();"
   ]
  },
  {
   "cell_type": "code",
   "execution_count": null,
   "metadata": {},
   "outputs": [],
   "source": [
    "%%javascript\n",
    "IPython.notebook.session.delete();\n",
    "window.onbeforeunload = null\n",
    "setTimeout(function() { window.close(); }, 1000);"
   ]
  }
 ],
 "metadata": {
  "coursera": {
   "course_slug": "introduction-tensorflow",
   "graded_item_id": "ml06H",
   "launcher_item_id": "hQF8A"
  },
  "kernelspec": {
   "display_name": "Python 3",
   "language": "python",
   "name": "python3"
  },
  "language_info": {
   "codemirror_mode": {
    "name": "ipython",
    "version": 3
   },
   "file_extension": ".py",
   "mimetype": "text/x-python",
   "name": "python",
   "nbconvert_exporter": "python",
   "pygments_lexer": "ipython3",
   "version": "3.6.8"
  },
  "widgets": {
   "application/vnd.jupyter.widget-state+json": {
    "state": {},
    "version_major": 2,
    "version_minor": 0
   }
  }
 },
 "nbformat": 4,
 "nbformat_minor": 1
}
